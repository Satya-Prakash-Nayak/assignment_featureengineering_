{
 "cells": [
  {
   "cell_type": "markdown",
   "id": "75e5ff2f-6e97-4434-bd48-095f58bda015",
   "metadata": {},
   "source": [
    "## 1- what is minmax scaling, and how is it used for datapreprocessing ? Provide an example to illustrate its application."
   ]
  },
  {
   "cell_type": "markdown",
   "id": "e467fe6f-ed3c-4435-823a-1883dac9890a",
   "metadata": {},
   "source": [
    "### Ans:- There is another way of data scaling, where the minimum of feature is made equal to zero and the maximum of feature equal to one. MinMax Scaler shrinks the data within the given range, usually of 0 to 1"
   ]
  },
  {
   "cell_type": "code",
   "execution_count": 3,
   "id": "60e9072e-b0cd-416f-83fd-8cdba8ed999e",
   "metadata": {},
   "outputs": [
    {
     "name": "stdout",
     "output_type": "stream",
     "text": [
      "[[1.         0.        ]\n",
      " [0.27272727 0.625     ]\n",
      " [0.         1.        ]\n",
      " [1.         0.75      ]]\n"
     ]
    }
   ],
   "source": [
    "from sklearn.preprocessing import MinMaxScaler\n",
    "data = [[11, 2], [3, 7], [0, 10], [11, 8]]\n",
    "scaler = MinMaxScaler()\n",
    "model=scaler.fit_transform(data)\n",
    "print(model)\n"
   ]
  },
  {
   "cell_type": "markdown",
   "id": "92fb9c10-81a8-43e4-87c4-5fee1e043817",
   "metadata": {},
   "source": [
    "## 2-what is unit vector technique in feature engineering and how is it differs from minmax scaler ? provide an example."
   ]
  },
  {
   "cell_type": "markdown",
   "id": "2b6f0bca-5a44-4edf-a724-b302b5255dca",
   "metadata": {},
   "source": [
    "### ans:- Unit Vector TechniqueAlso known as normalization, this technique scales the values of a feature to have a unit norm (typically 1). This is done by dividing each feature value by the Euclidean norm (or L2 norm) of the feature vector.This technique is useful when you want to ensure that the data points lie on a unit hypersphere, which can be beneficial for certain algorithms like k-means clustering1."
   ]
  },
  {
   "cell_type": "markdown",
   "id": "619164c5-cffe-4452-9e31-2e678937b017",
   "metadata": {},
   "source": [
    "### Difference :- Unit vector technique normalizes data to have a unit norm, while min-max scaling adjusts data to fit within a specific range.\n",
    "### Application: Unit vector technique is often used in clustering algorithms, whereas min-max scaling is commonly used in algorithms sensitive to feature scales, like neural networks and distance-based algorithms.\n",
    "### Formula: Unit vector technique uses the Euclidean norm, while min-max scaling uses the minimum and maximum values of the feature."
   ]
  },
  {
   "cell_type": "code",
   "execution_count": 6,
   "id": "b34a36f0-fff6-4d6e-a1eb-65aed9a5bbfd",
   "metadata": {},
   "outputs": [],
   "source": [
    "## example\n",
    "from sklearn.preprocessing import normalize\n",
    "data = [[11, 2], [3, 7], [0, 10], [11, 8]]"
   ]
  },
  {
   "cell_type": "code",
   "execution_count": 8,
   "id": "1920bc19-4ebf-4872-88ae-e6d2349bc239",
   "metadata": {},
   "outputs": [],
   "source": [
    "df=normalize(data)"
   ]
  },
  {
   "cell_type": "code",
   "execution_count": 9,
   "id": "136febb2-45e5-4744-aaae-a6bed4dc51a9",
   "metadata": {},
   "outputs": [
    {
     "name": "stdout",
     "output_type": "stream",
     "text": [
      "[[0.98386991 0.17888544]\n",
      " [0.3939193  0.91914503]\n",
      " [0.         1.        ]\n",
      " [0.80873608 0.5881717 ]]\n"
     ]
    }
   ],
   "source": [
    "print(df)"
   ]
  },
  {
   "cell_type": "markdown",
   "id": "835fb774-faca-4d95-8e20-dd2a8479d3b9",
   "metadata": {},
   "source": [
    "## 3- what is PCA, and how is it used for dimentionality reduction? Provide an example to illustrate its application.\n",
    "### ans:- Principal Component Analysis (PCA) is an unsupervised learning algorithm technique used to examine the interrelations among a set of variables. It is also known as a general factor analysis where regression determines a line of best fit. "
   ]
  },
  {
   "cell_type": "markdown",
   "id": "f0932c5b-aabc-4c52-b559-2601d9fc9f72",
   "metadata": {},
   "source": [
    "## 5-you are working on a project to build a recommendation system for a food delivery service . the database contains features such as price , rating, and delivery time. explain how would you use min max scaling for preprocessing data"
   ]
  },
  {
   "cell_type": "markdown",
   "id": "19ee878c-de5c-4c9c-8844-04e30a30321d",
   "metadata": {},
   "source": [
    "###  Min-max scaling transforms features to a specified range, typically between 0 and 1. This ensures that all features contribute equally to the model, improving its performance.\n",
    "### steps 1-Identify the Features: Determine which features need scaling. In your case, these are price, rating, and delivery time.\n",
    "### step-2Calculate Minimum and Maximum Values: For each feature, find the minimum and maximum values in the dataset.\n",
    "### step-3Apply the Scaling Formula: Use the formula to scale each feature value to the range [0, 1]."
   ]
  },
  {
   "cell_type": "code",
   "execution_count": 16,
   "id": "d72abe0d-9f76-47bb-96c3-fa8516e86d5d",
   "metadata": {},
   "outputs": [],
   "source": [
    "import numpy as np\n",
    "import pandas as pd"
   ]
  },
  {
   "cell_type": "code",
   "execution_count": 38,
   "id": "3ecf684a-18f1-4e4f-8068-5bd4a128ab9c",
   "metadata": {},
   "outputs": [
    {
     "data": {
      "text/plain": [
       "array([290, 226, 303, 335, 207, 252, 152, 330, 167, 229, 365, 177, 353,\n",
       "       186, 274, 162, 190, 312, 233, 170, 323, 143, 336, 283, 135, 375,\n",
       "       184, 353, 303, 331])"
      ]
     },
     "execution_count": 38,
     "metadata": {},
     "output_type": "execute_result"
    }
   ],
   "source": [
    "np.random.randint(100,400,size=30)#low, high=None, size=None, dtype=int"
   ]
  },
  {
   "cell_type": "code",
   "execution_count": 42,
   "id": "5f8b03e8-93ae-4301-b41c-8d6c195c75fa",
   "metadata": {},
   "outputs": [
    {
     "data": {
      "text/plain": [
       "array([1, 2, 3, 1, 2, 3, 4, 5, 5, 4, 5, 3, 3, 1, 4, 5, 3, 2, 3, 1, 4, 2,\n",
       "       1, 2, 3, 3, 2, 5, 5, 4])"
      ]
     },
     "execution_count": 42,
     "metadata": {},
     "output_type": "execute_result"
    }
   ],
   "source": [
    "np.random.randint(1,6,size=30)"
   ]
  },
  {
   "cell_type": "code",
   "execution_count": 43,
   "id": "932bed4e-7920-42a0-b441-95daee256921",
   "metadata": {},
   "outputs": [
    {
     "data": {
      "text/plain": [
       "array([23, 35, 31, 37, 29, 24, 35, 30, 34, 38, 32, 29, 37, 24, 38, 23, 28,\n",
       "       26, 29, 39, 39, 31, 31, 26, 21, 23, 36, 27, 23, 37])"
      ]
     },
     "execution_count": 43,
     "metadata": {},
     "output_type": "execute_result"
    }
   ],
   "source": [
    "np.random.randint(20,40,size=30)"
   ]
  },
  {
   "cell_type": "code",
   "execution_count": 58,
   "id": "e04b1ca4-6ac2-4766-90f2-f4fe5f00a8f1",
   "metadata": {},
   "outputs": [],
   "source": [
    "price=pd.DataFrame(np.random.randint(100,400,size=30),columns=['price'])"
   ]
  },
  {
   "cell_type": "code",
   "execution_count": 59,
   "id": "a1f253dc-ee83-4255-a48c-ac85e8c23ab5",
   "metadata": {},
   "outputs": [],
   "source": [
    "ratings=pd.DataFrame(np.random.randint(1,6,size=30),columns=['ratings'])"
   ]
  },
  {
   "cell_type": "code",
   "execution_count": 60,
   "id": "6a74cf7f-c49a-4683-a7a2-b143bc0da93a",
   "metadata": {},
   "outputs": [],
   "source": [
    "delivery_time=pd.DataFrame(np.random.randint(20,40,size=30),columns=['delivery_time'])"
   ]
  },
  {
   "cell_type": "code",
   "execution_count": 62,
   "id": "28586140-7cdb-4a37-9398-034d939c1e55",
   "metadata": {},
   "outputs": [],
   "source": [
    "df=pd.concat([price,ratings,delivery_time],axis=1)"
   ]
  },
  {
   "cell_type": "code",
   "execution_count": 63,
   "id": "b0bfa300-cd4f-49a6-8602-b9794648ba51",
   "metadata": {},
   "outputs": [
    {
     "data": {
      "text/html": [
       "<div>\n",
       "<style scoped>\n",
       "    .dataframe tbody tr th:only-of-type {\n",
       "        vertical-align: middle;\n",
       "    }\n",
       "\n",
       "    .dataframe tbody tr th {\n",
       "        vertical-align: top;\n",
       "    }\n",
       "\n",
       "    .dataframe thead th {\n",
       "        text-align: right;\n",
       "    }\n",
       "</style>\n",
       "<table border=\"1\" class=\"dataframe\">\n",
       "  <thead>\n",
       "    <tr style=\"text-align: right;\">\n",
       "      <th></th>\n",
       "      <th>price</th>\n",
       "      <th>ratings</th>\n",
       "      <th>delivery_time</th>\n",
       "    </tr>\n",
       "  </thead>\n",
       "  <tbody>\n",
       "    <tr>\n",
       "      <th>0</th>\n",
       "      <td>214</td>\n",
       "      <td>3</td>\n",
       "      <td>27</td>\n",
       "    </tr>\n",
       "    <tr>\n",
       "      <th>1</th>\n",
       "      <td>382</td>\n",
       "      <td>1</td>\n",
       "      <td>23</td>\n",
       "    </tr>\n",
       "    <tr>\n",
       "      <th>2</th>\n",
       "      <td>335</td>\n",
       "      <td>2</td>\n",
       "      <td>23</td>\n",
       "    </tr>\n",
       "    <tr>\n",
       "      <th>3</th>\n",
       "      <td>150</td>\n",
       "      <td>2</td>\n",
       "      <td>37</td>\n",
       "    </tr>\n",
       "    <tr>\n",
       "      <th>4</th>\n",
       "      <td>158</td>\n",
       "      <td>2</td>\n",
       "      <td>24</td>\n",
       "    </tr>\n",
       "  </tbody>\n",
       "</table>\n",
       "</div>"
      ],
      "text/plain": [
       "   price  ratings  delivery_time\n",
       "0    214        3             27\n",
       "1    382        1             23\n",
       "2    335        2             23\n",
       "3    150        2             37\n",
       "4    158        2             24"
      ]
     },
     "execution_count": 63,
     "metadata": {},
     "output_type": "execute_result"
    }
   ],
   "source": [
    "df.head()"
   ]
  },
  {
   "cell_type": "code",
   "execution_count": 64,
   "id": "8cea1a05-39e5-4284-98d9-82f091c5ace0",
   "metadata": {},
   "outputs": [],
   "source": [
    "from sklearn.preprocessing import MinMaxScaler"
   ]
  },
  {
   "cell_type": "code",
   "execution_count": 65,
   "id": "a653405a-cbfa-4734-850b-c338247da3f5",
   "metadata": {},
   "outputs": [],
   "source": [
    "scaler=MinMaxScaler()"
   ]
  },
  {
   "cell_type": "code",
   "execution_count": 67,
   "id": "3f8b4344-e4d4-4863-ac35-d44a5cf729a9",
   "metadata": {},
   "outputs": [],
   "source": [
    "scaled_data=scaler.fit_transform(df)"
   ]
  },
  {
   "cell_type": "code",
   "execution_count": 69,
   "id": "9fb89c5b-0c47-4821-ade2-ba68a10aec25",
   "metadata": {},
   "outputs": [
    {
     "data": {
      "text/html": [
       "<div>\n",
       "<style scoped>\n",
       "    .dataframe tbody tr th:only-of-type {\n",
       "        vertical-align: middle;\n",
       "    }\n",
       "\n",
       "    .dataframe tbody tr th {\n",
       "        vertical-align: top;\n",
       "    }\n",
       "\n",
       "    .dataframe thead th {\n",
       "        text-align: right;\n",
       "    }\n",
       "</style>\n",
       "<table border=\"1\" class=\"dataframe\">\n",
       "  <thead>\n",
       "    <tr style=\"text-align: right;\">\n",
       "      <th></th>\n",
       "      <th>price</th>\n",
       "      <th>ratings</th>\n",
       "      <th>delivery_time</th>\n",
       "    </tr>\n",
       "  </thead>\n",
       "  <tbody>\n",
       "    <tr>\n",
       "      <th>0</th>\n",
       "      <td>0.372881</td>\n",
       "      <td>0.50</td>\n",
       "      <td>0.368421</td>\n",
       "    </tr>\n",
       "    <tr>\n",
       "      <th>1</th>\n",
       "      <td>0.942373</td>\n",
       "      <td>0.00</td>\n",
       "      <td>0.157895</td>\n",
       "    </tr>\n",
       "    <tr>\n",
       "      <th>2</th>\n",
       "      <td>0.783051</td>\n",
       "      <td>0.25</td>\n",
       "      <td>0.157895</td>\n",
       "    </tr>\n",
       "    <tr>\n",
       "      <th>3</th>\n",
       "      <td>0.155932</td>\n",
       "      <td>0.25</td>\n",
       "      <td>0.894737</td>\n",
       "    </tr>\n",
       "    <tr>\n",
       "      <th>4</th>\n",
       "      <td>0.183051</td>\n",
       "      <td>0.25</td>\n",
       "      <td>0.210526</td>\n",
       "    </tr>\n",
       "    <tr>\n",
       "      <th>5</th>\n",
       "      <td>0.518644</td>\n",
       "      <td>1.00</td>\n",
       "      <td>0.842105</td>\n",
       "    </tr>\n",
       "    <tr>\n",
       "      <th>6</th>\n",
       "      <td>0.538983</td>\n",
       "      <td>0.75</td>\n",
       "      <td>0.947368</td>\n",
       "    </tr>\n",
       "    <tr>\n",
       "      <th>7</th>\n",
       "      <td>0.898305</td>\n",
       "      <td>0.75</td>\n",
       "      <td>0.421053</td>\n",
       "    </tr>\n",
       "    <tr>\n",
       "      <th>8</th>\n",
       "      <td>0.444068</td>\n",
       "      <td>0.25</td>\n",
       "      <td>0.368421</td>\n",
       "    </tr>\n",
       "    <tr>\n",
       "      <th>9</th>\n",
       "      <td>0.450847</td>\n",
       "      <td>0.25</td>\n",
       "      <td>0.578947</td>\n",
       "    </tr>\n",
       "    <tr>\n",
       "      <th>10</th>\n",
       "      <td>1.000000</td>\n",
       "      <td>0.50</td>\n",
       "      <td>0.368421</td>\n",
       "    </tr>\n",
       "    <tr>\n",
       "      <th>11</th>\n",
       "      <td>0.000000</td>\n",
       "      <td>0.50</td>\n",
       "      <td>0.578947</td>\n",
       "    </tr>\n",
       "    <tr>\n",
       "      <th>12</th>\n",
       "      <td>0.755932</td>\n",
       "      <td>0.50</td>\n",
       "      <td>0.000000</td>\n",
       "    </tr>\n",
       "    <tr>\n",
       "      <th>13</th>\n",
       "      <td>0.240678</td>\n",
       "      <td>0.75</td>\n",
       "      <td>0.842105</td>\n",
       "    </tr>\n",
       "    <tr>\n",
       "      <th>14</th>\n",
       "      <td>0.176271</td>\n",
       "      <td>0.75</td>\n",
       "      <td>0.210526</td>\n",
       "    </tr>\n",
       "    <tr>\n",
       "      <th>15</th>\n",
       "      <td>0.783051</td>\n",
       "      <td>0.25</td>\n",
       "      <td>0.842105</td>\n",
       "    </tr>\n",
       "    <tr>\n",
       "      <th>16</th>\n",
       "      <td>0.155932</td>\n",
       "      <td>1.00</td>\n",
       "      <td>0.736842</td>\n",
       "    </tr>\n",
       "    <tr>\n",
       "      <th>17</th>\n",
       "      <td>0.589831</td>\n",
       "      <td>0.00</td>\n",
       "      <td>0.631579</td>\n",
       "    </tr>\n",
       "    <tr>\n",
       "      <th>18</th>\n",
       "      <td>0.511864</td>\n",
       "      <td>0.75</td>\n",
       "      <td>0.263158</td>\n",
       "    </tr>\n",
       "    <tr>\n",
       "      <th>19</th>\n",
       "      <td>0.823729</td>\n",
       "      <td>0.50</td>\n",
       "      <td>0.315789</td>\n",
       "    </tr>\n",
       "    <tr>\n",
       "      <th>20</th>\n",
       "      <td>0.766102</td>\n",
       "      <td>0.75</td>\n",
       "      <td>0.947368</td>\n",
       "    </tr>\n",
       "    <tr>\n",
       "      <th>21</th>\n",
       "      <td>0.267797</td>\n",
       "      <td>0.50</td>\n",
       "      <td>0.631579</td>\n",
       "    </tr>\n",
       "    <tr>\n",
       "      <th>22</th>\n",
       "      <td>0.318644</td>\n",
       "      <td>0.00</td>\n",
       "      <td>0.947368</td>\n",
       "    </tr>\n",
       "    <tr>\n",
       "      <th>23</th>\n",
       "      <td>0.179661</td>\n",
       "      <td>1.00</td>\n",
       "      <td>0.263158</td>\n",
       "    </tr>\n",
       "    <tr>\n",
       "      <th>24</th>\n",
       "      <td>0.057627</td>\n",
       "      <td>0.75</td>\n",
       "      <td>0.842105</td>\n",
       "    </tr>\n",
       "    <tr>\n",
       "      <th>25</th>\n",
       "      <td>0.088136</td>\n",
       "      <td>0.25</td>\n",
       "      <td>0.052632</td>\n",
       "    </tr>\n",
       "    <tr>\n",
       "      <th>26</th>\n",
       "      <td>0.057627</td>\n",
       "      <td>0.75</td>\n",
       "      <td>0.736842</td>\n",
       "    </tr>\n",
       "    <tr>\n",
       "      <th>27</th>\n",
       "      <td>0.576271</td>\n",
       "      <td>0.75</td>\n",
       "      <td>1.000000</td>\n",
       "    </tr>\n",
       "    <tr>\n",
       "      <th>28</th>\n",
       "      <td>0.376271</td>\n",
       "      <td>0.50</td>\n",
       "      <td>0.157895</td>\n",
       "    </tr>\n",
       "    <tr>\n",
       "      <th>29</th>\n",
       "      <td>0.949153</td>\n",
       "      <td>0.25</td>\n",
       "      <td>0.842105</td>\n",
       "    </tr>\n",
       "  </tbody>\n",
       "</table>\n",
       "</div>"
      ],
      "text/plain": [
       "       price  ratings  delivery_time\n",
       "0   0.372881     0.50       0.368421\n",
       "1   0.942373     0.00       0.157895\n",
       "2   0.783051     0.25       0.157895\n",
       "3   0.155932     0.25       0.894737\n",
       "4   0.183051     0.25       0.210526\n",
       "5   0.518644     1.00       0.842105\n",
       "6   0.538983     0.75       0.947368\n",
       "7   0.898305     0.75       0.421053\n",
       "8   0.444068     0.25       0.368421\n",
       "9   0.450847     0.25       0.578947\n",
       "10  1.000000     0.50       0.368421\n",
       "11  0.000000     0.50       0.578947\n",
       "12  0.755932     0.50       0.000000\n",
       "13  0.240678     0.75       0.842105\n",
       "14  0.176271     0.75       0.210526\n",
       "15  0.783051     0.25       0.842105\n",
       "16  0.155932     1.00       0.736842\n",
       "17  0.589831     0.00       0.631579\n",
       "18  0.511864     0.75       0.263158\n",
       "19  0.823729     0.50       0.315789\n",
       "20  0.766102     0.75       0.947368\n",
       "21  0.267797     0.50       0.631579\n",
       "22  0.318644     0.00       0.947368\n",
       "23  0.179661     1.00       0.263158\n",
       "24  0.057627     0.75       0.842105\n",
       "25  0.088136     0.25       0.052632\n",
       "26  0.057627     0.75       0.736842\n",
       "27  0.576271     0.75       1.000000\n",
       "28  0.376271     0.50       0.157895\n",
       "29  0.949153     0.25       0.842105"
      ]
     },
     "execution_count": 69,
     "metadata": {},
     "output_type": "execute_result"
    }
   ],
   "source": [
    "pd.DataFrame(scaled_data,columns=['price','ratings','delivery_time'])"
   ]
  },
  {
   "cell_type": "markdown",
   "id": "2f209e56-6abc-41ad-92e9-ea34b5afd0c8",
   "metadata": {},
   "source": [
    "## 7 for a dataset containing [1,510,15,20], perform min max scaling to transform the values to a range of -1 to 1"
   ]
  },
  {
   "cell_type": "code",
   "execution_count": 70,
   "id": "668f03c6-6d98-453f-9dde-d8e98bccebfd",
   "metadata": {},
   "outputs": [],
   "source": [
    "from sklearn.preprocessing import MinMaxScaler"
   ]
  },
  {
   "cell_type": "code",
   "execution_count": 71,
   "id": "e1c1859d-97b1-4e10-b703-13379168760a",
   "metadata": {},
   "outputs": [],
   "source": [
    "scaler=MinMaxScaler()"
   ]
  },
  {
   "cell_type": "code",
   "execution_count": 75,
   "id": "0790e883-cb68-400d-b3d2-7eec6b28c6a3",
   "metadata": {},
   "outputs": [],
   "source": [
    "data=[1,5,10,15,20]"
   ]
  },
  {
   "cell_type": "code",
   "execution_count": 81,
   "id": "56243b44-368f-4f12-b1a1-db4e8e747b12",
   "metadata": {
    "scrolled": true
   },
   "outputs": [
    {
     "data": {
      "text/html": [
       "<div>\n",
       "<style scoped>\n",
       "    .dataframe tbody tr th:only-of-type {\n",
       "        vertical-align: middle;\n",
       "    }\n",
       "\n",
       "    .dataframe tbody tr th {\n",
       "        vertical-align: top;\n",
       "    }\n",
       "\n",
       "    .dataframe thead th {\n",
       "        text-align: right;\n",
       "    }\n",
       "</style>\n",
       "<table border=\"1\" class=\"dataframe\">\n",
       "  <thead>\n",
       "    <tr style=\"text-align: right;\">\n",
       "      <th></th>\n",
       "      <th>0</th>\n",
       "    </tr>\n",
       "  </thead>\n",
       "  <tbody>\n",
       "    <tr>\n",
       "      <th>0</th>\n",
       "      <td>1</td>\n",
       "    </tr>\n",
       "    <tr>\n",
       "      <th>1</th>\n",
       "      <td>5</td>\n",
       "    </tr>\n",
       "    <tr>\n",
       "      <th>2</th>\n",
       "      <td>10</td>\n",
       "    </tr>\n",
       "    <tr>\n",
       "      <th>3</th>\n",
       "      <td>15</td>\n",
       "    </tr>\n",
       "    <tr>\n",
       "      <th>4</th>\n",
       "      <td>20</td>\n",
       "    </tr>\n",
       "  </tbody>\n",
       "</table>\n",
       "</div>"
      ],
      "text/plain": [
       "    0\n",
       "0   1\n",
       "1   5\n",
       "2  10\n",
       "3  15\n",
       "4  20"
      ]
     },
     "execution_count": 81,
     "metadata": {},
     "output_type": "execute_result"
    }
   ],
   "source": [
    "df=pd.DataFrame(data)\n",
    "df"
   ]
  },
  {
   "cell_type": "code",
   "execution_count": 82,
   "id": "44bb4b91-134a-4b36-ad87-b4ac3023a88d",
   "metadata": {},
   "outputs": [
    {
     "data": {
      "text/html": [
       "<style>#sk-container-id-1 {color: black;background-color: white;}#sk-container-id-1 pre{padding: 0;}#sk-container-id-1 div.sk-toggleable {background-color: white;}#sk-container-id-1 label.sk-toggleable__label {cursor: pointer;display: block;width: 100%;margin-bottom: 0;padding: 0.3em;box-sizing: border-box;text-align: center;}#sk-container-id-1 label.sk-toggleable__label-arrow:before {content: \"▸\";float: left;margin-right: 0.25em;color: #696969;}#sk-container-id-1 label.sk-toggleable__label-arrow:hover:before {color: black;}#sk-container-id-1 div.sk-estimator:hover label.sk-toggleable__label-arrow:before {color: black;}#sk-container-id-1 div.sk-toggleable__content {max-height: 0;max-width: 0;overflow: hidden;text-align: left;background-color: #f0f8ff;}#sk-container-id-1 div.sk-toggleable__content pre {margin: 0.2em;color: black;border-radius: 0.25em;background-color: #f0f8ff;}#sk-container-id-1 input.sk-toggleable__control:checked~div.sk-toggleable__content {max-height: 200px;max-width: 100%;overflow: auto;}#sk-container-id-1 input.sk-toggleable__control:checked~label.sk-toggleable__label-arrow:before {content: \"▾\";}#sk-container-id-1 div.sk-estimator input.sk-toggleable__control:checked~label.sk-toggleable__label {background-color: #d4ebff;}#sk-container-id-1 div.sk-label input.sk-toggleable__control:checked~label.sk-toggleable__label {background-color: #d4ebff;}#sk-container-id-1 input.sk-hidden--visually {border: 0;clip: rect(1px 1px 1px 1px);clip: rect(1px, 1px, 1px, 1px);height: 1px;margin: -1px;overflow: hidden;padding: 0;position: absolute;width: 1px;}#sk-container-id-1 div.sk-estimator {font-family: monospace;background-color: #f0f8ff;border: 1px dotted black;border-radius: 0.25em;box-sizing: border-box;margin-bottom: 0.5em;}#sk-container-id-1 div.sk-estimator:hover {background-color: #d4ebff;}#sk-container-id-1 div.sk-parallel-item::after {content: \"\";width: 100%;border-bottom: 1px solid gray;flex-grow: 1;}#sk-container-id-1 div.sk-label:hover label.sk-toggleable__label {background-color: #d4ebff;}#sk-container-id-1 div.sk-serial::before {content: \"\";position: absolute;border-left: 1px solid gray;box-sizing: border-box;top: 0;bottom: 0;left: 50%;z-index: 0;}#sk-container-id-1 div.sk-serial {display: flex;flex-direction: column;align-items: center;background-color: white;padding-right: 0.2em;padding-left: 0.2em;position: relative;}#sk-container-id-1 div.sk-item {position: relative;z-index: 1;}#sk-container-id-1 div.sk-parallel {display: flex;align-items: stretch;justify-content: center;background-color: white;position: relative;}#sk-container-id-1 div.sk-item::before, #sk-container-id-1 div.sk-parallel-item::before {content: \"\";position: absolute;border-left: 1px solid gray;box-sizing: border-box;top: 0;bottom: 0;left: 50%;z-index: -1;}#sk-container-id-1 div.sk-parallel-item {display: flex;flex-direction: column;z-index: 1;position: relative;background-color: white;}#sk-container-id-1 div.sk-parallel-item:first-child::after {align-self: flex-end;width: 50%;}#sk-container-id-1 div.sk-parallel-item:last-child::after {align-self: flex-start;width: 50%;}#sk-container-id-1 div.sk-parallel-item:only-child::after {width: 0;}#sk-container-id-1 div.sk-dashed-wrapped {border: 1px dashed gray;margin: 0 0.4em 0.5em 0.4em;box-sizing: border-box;padding-bottom: 0.4em;background-color: white;}#sk-container-id-1 div.sk-label label {font-family: monospace;font-weight: bold;display: inline-block;line-height: 1.2em;}#sk-container-id-1 div.sk-label-container {text-align: center;}#sk-container-id-1 div.sk-container {/* jupyter's `normalize.less` sets `[hidden] { display: none; }` but bootstrap.min.css set `[hidden] { display: none !important; }` so we also need the `!important` here to be able to override the default hidden behavior on the sphinx rendered scikit-learn.org. See: https://github.com/scikit-learn/scikit-learn/issues/21755 */display: inline-block !important;position: relative;}#sk-container-id-1 div.sk-text-repr-fallback {display: none;}</style><div id=\"sk-container-id-1\" class=\"sk-top-container\"><div class=\"sk-text-repr-fallback\"><pre>MinMaxScaler()</pre><b>In a Jupyter environment, please rerun this cell to show the HTML representation or trust the notebook. <br />On GitHub, the HTML representation is unable to render, please try loading this page with nbviewer.org.</b></div><div class=\"sk-container\" hidden><div class=\"sk-item\"><div class=\"sk-estimator sk-toggleable\"><input class=\"sk-toggleable__control sk-hidden--visually\" id=\"sk-estimator-id-1\" type=\"checkbox\" checked><label for=\"sk-estimator-id-1\" class=\"sk-toggleable__label sk-toggleable__label-arrow\">MinMaxScaler</label><div class=\"sk-toggleable__content\"><pre>MinMaxScaler()</pre></div></div></div></div></div>"
      ],
      "text/plain": [
       "MinMaxScaler()"
      ]
     },
     "execution_count": 82,
     "metadata": {},
     "output_type": "execute_result"
    }
   ],
   "source": [
    "scaler.fit(df)"
   ]
  },
  {
   "cell_type": "code",
   "execution_count": 83,
   "id": "3d69a7c7-5c0b-48fd-b363-7c93f0c0ef71",
   "metadata": {},
   "outputs": [
    {
     "data": {
      "text/plain": [
       "array([[0.        ],\n",
       "       [0.21052632],\n",
       "       [0.47368421],\n",
       "       [0.73684211],\n",
       "       [1.        ]])"
      ]
     },
     "execution_count": 83,
     "metadata": {},
     "output_type": "execute_result"
    }
   ],
   "source": [
    "scaler.transform(df)"
   ]
  },
  {
   "cell_type": "code",
   "execution_count": null,
   "id": "3ac8c0bf-2d03-4eb1-a57d-e085caa439b4",
   "metadata": {},
   "outputs": [],
   "source": []
  }
 ],
 "metadata": {
  "kernelspec": {
   "display_name": "Python 3 (ipykernel)",
   "language": "python",
   "name": "python3"
  },
  "language_info": {
   "codemirror_mode": {
    "name": "ipython",
    "version": 3
   },
   "file_extension": ".py",
   "mimetype": "text/x-python",
   "name": "python",
   "nbconvert_exporter": "python",
   "pygments_lexer": "ipython3",
   "version": "3.11.7"
  }
 },
 "nbformat": 4,
 "nbformat_minor": 5
}
